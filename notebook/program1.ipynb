{
 "cells": [
  {
   "cell_type": "code",
   "execution_count": 2,
   "metadata": {},
   "outputs": [],
   "source": [
    "import numpy as np\n",
    "import matplotlib.pyplot as plt\n",
    "from mpl_toolkits.mplot3d import axes3d\n",
    "from matplotlib import cm"
   ]
  },
  {
   "cell_type": "code",
   "execution_count": 18,
   "metadata": {},
   "outputs": [],
   "source": [
    "# 4E Example values\n",
    "Q=0.45\n",
    "theta=54.7*np.pi/180\n",
    "phi=240*np.pi/180"
   ]
  },
  {
   "cell_type": "code",
   "execution_count": 30,
   "metadata": {},
   "outputs": [],
   "source": [
    "# 4C1 Example values \n",
    "Q=0.556  #Angstroms\n",
    "theta=5.2*np.pi/180\n",
    "phi=183.7*np.pi/180"
   ]
  },
  {
   "cell_type": "code",
   "execution_count": null,
   "metadata": {},
   "outputs": [],
   "source": []
  },
  {
   "cell_type": "code",
   "execution_count": 39,
   "metadata": {},
   "outputs": [],
   "source": [
    "# z coordinate of each atom\n",
    "js = np.arange(1,7)\n",
    "z = np.zeros((6,2)) #atom number\n",
    "for j in js:\n",
    "    z[j-1,1] = 3**(-0.5) * Q*np.sin(theta) * np.cos(phi+2/3*np.pi*(j-1)) + Q/6*np.cos(theta)*(-1)**(j-1)\n",
    "z[:,0]=js"
   ]
  },
  {
   "cell_type": "code",
   "execution_count": 38,
   "metadata": {},
   "outputs": [
    {
     "data": {
      "text/plain": [
       "array([1, 2, 3, 4, 5, 6])"
      ]
     },
     "execution_count": 38,
     "metadata": {},
     "output_type": "execute_result"
    }
   ],
   "source": [
    "js"
   ]
  },
  {
   "cell_type": "code",
   "execution_count": 40,
   "metadata": {},
   "outputs": [
    {
     "data": {
      "text/plain": [
       "array([[ 1.        ,  0.06325226],\n",
       "       [ 2.        , -0.07614283],\n",
       "       [ 3.        ,  0.10517585],\n",
       "       [ 4.        , -0.12131832],\n",
       "       [ 5.        ,  0.10842775],\n",
       "       [ 6.        , -0.07939472]])"
      ]
     },
     "execution_count": 40,
     "metadata": {},
     "output_type": "execute_result"
    }
   ],
   "source": [
    "z"
   ]
  },
  {
   "cell_type": "code",
   "execution_count": 32,
   "metadata": {},
   "outputs": [],
   "source": [
    "# Projection of bond length into reference plane\n",
    "r = [1.532,1.532,1.532,1.532,1.532,1.532]\n",
    "r_proj = np.zeros((6,2))\n",
    "for j in range(1,6):\n",
    "    r_proj[j-1,1]=(r[j-1]**2-(z[j-1,1]-z[j,1])**2)**0.5\n",
    "r_proj[5,1]=(r[5]**2-(z[5,1]-z[0,1])**2)**0.5\n",
    "r_proj[:,0]=js"
   ]
  },
  {
   "cell_type": "code",
   "execution_count": 34,
   "metadata": {},
   "outputs": [
    {
     "data": {
      "text/plain": [
       "array([[1.        , 1.52564511],\n",
       "       [2.        , 1.52123224],\n",
       "       [3.        , 1.51516481],\n",
       "       [4.        , 1.51467513],\n",
       "       [5.        , 1.52044294],\n",
       "       [6.        , 1.5253445 ]])"
      ]
     },
     "execution_count": 34,
     "metadata": {},
     "output_type": "execute_result"
    }
   ],
   "source": [
    "r_proj"
   ]
  },
  {
   "cell_type": "code",
   "execution_count": 35,
   "metadata": {},
   "outputs": [],
   "source": [
    "# Projection of angles into reference plane\n",
    "beta = [111.5,111.5,111.5,111.5,111.5,111.5]\n",
    "b_proj = np.zeros((6,2))\n",
    "b_proj[0,1]=np.arccos(((z[1,1]-z[5,1])**2 - (z[0,1]-z[1,1])**2 - (z[1,1]-z[0,1])**2 + 2*r[5]*r[0]*np.cos(beta[0]))/(2*r_proj[5,1]*r_proj[0,1]))\n",
    "for j in range(2,6):\n",
    "    b_proj[j-1,1]=np.arccos(((z[j,1]-z[j-2,1])**2 - (z[j-1,1]-z[j-2,1])**2 - (z[j,1]-z[j-1,1])**2 + 2*r[j-2]*r[j-1]*np.cos(beta[j-1]))/(2*r_proj[j-2,1]*r_proj[j-1,1]))\n",
    "b_proj[5,1]=np.arccos(((z[0,1]-z[4,1])**2 - (z[5,1]-z[4,1])**2 - (z[0,1]-z[5,1])**2 + 2*r[4]*r[5]*np.cos(beta[5]))/(2*r_proj[4,1]*r_proj[5,1]))\n",
    "\n",
    "b_proj[:,0]=js\n",
    "\n"
   ]
  },
  {
   "cell_type": "code",
   "execution_count": 36,
   "metadata": {},
   "outputs": [
    {
     "data": {
      "text/plain": [
       "array([[1.        , 1.60591391],\n",
       "       [2.        , 1.60853084],\n",
       "       [3.        , 1.61564961],\n",
       "       [4.        , 1.62062865],\n",
       "       [5.        , 1.61659321],\n",
       "       [6.        , 1.60921263]])"
      ]
     },
     "execution_count": 36,
     "metadata": {},
     "output_type": "execute_result"
    }
   ],
   "source": [
    "b_proj"
   ]
  },
  {
   "cell_type": "markdown",
   "metadata": {},
   "source": [
    "### Values from Cremer-Pople paper, glucose from sucrose\n",
    "### ~4C1\n",
    "q2=0.050  \n",
    "q3=0.554  \n",
    "Q=0.556   \n",
    "phi=183.7  \n",
    "theta=5.2  \n",
    "\n",
    "   |Cell coord                  |Cartesian coord|\n",
    "   |---|---|\n",
    "|0(5)  1  0.3772  0.3988  0.3686  |   0       1.3839  0.1976|  \n",
    "|C(1)  2  0.2996  0.3579  0.4849  |   1.1997  0.7624 -0.2106|  \n",
    "|C(2)  3  0.3125  0.4747  0.6360  |   1.2356 -0.7040  0.2393|  \n",
    "|C(3)  4  0.2854  0.6367  0.5645  |   0.0110 -1.4564 -0.2550|  \n",
    "|C(4)  5  0.3740  0.6709  0.4420  |  -1.2300 -0.7208  0.2420|  \n",
    "|C(5)  6  0.3592  0.5511  0.2953  |  -1.2164  0.7350 -0.2133| "
   ]
  },
  {
   "cell_type": "code",
   "execution_count": null,
   "metadata": {},
   "outputs": [],
   "source": []
  },
  {
   "cell_type": "code",
   "execution_count": null,
   "metadata": {},
   "outputs": [],
   "source": []
  },
  {
   "cell_type": "code",
   "execution_count": null,
   "metadata": {},
   "outputs": [],
   "source": []
  },
  {
   "cell_type": "code",
   "execution_count": null,
   "metadata": {},
   "outputs": [],
   "source": []
  },
  {
   "cell_type": "code",
   "execution_count": null,
   "metadata": {},
   "outputs": [],
   "source": []
  },
  {
   "cell_type": "code",
   "execution_count": null,
   "metadata": {},
   "outputs": [],
   "source": []
  },
  {
   "cell_type": "code",
   "execution_count": null,
   "metadata": {},
   "outputs": [],
   "source": []
  },
  {
   "cell_type": "code",
   "execution_count": null,
   "metadata": {},
   "outputs": [],
   "source": []
  },
  {
   "cell_type": "code",
   "execution_count": 42,
   "metadata": {},
   "outputs": [],
   "source": [
    "x1 = [180,0,30,60,90,120,150,180,210,240,270,300,330,360,0,30,60,90,120,150,180,210,240,270,300,330,360,0,30,60,90,120,150,180,210,240,270,300,330,360,180]\n",
    "y1 = [0,54.7,50.8,54.7,50.8,54.7,50.8,54.7,50.8,54.7,50.8,54.7,50.8,54.7,90,90,90,90,90,90,90,90,90,90,90,90,90,\n",
    "      125.3,129.2,125.3,129.2,125.3,129.2,125.3,129.2,125.3,129.2,125.3,129.2,125.3,180]\n",
    "z1 = [0.57,0.45,0.42,0.45,0.42,0.45,0.42,0.45,0.42,0.45,0.42,0.45,0.42,0.45,0.76,0.62,0.76,0.62,0.76,0.62,0.76,0.62,0.76,0.62,0.76,0.62,0.76,\n",
    "     0.45,0.42,0.45,0.42,0.45,0.42,0.45,0.42,0.45,0.42,0.45,0.42,0.45,0.57]\n",
    "data = np.array([x1,y1,z1])\n",
    "data = np.transpose(data)"
   ]
  },
  {
   "cell_type": "code",
   "execution_count": 39,
   "metadata": {},
   "outputs": [
    {
     "data": {
      "text/plain": [
       "array([180.,   0.,  30.,  60.,  90., 120., 150., 180., 210., 240., 270.,\n",
       "       300., 330., 360.,   0.,  30.,  60.,  90., 120., 150., 180., 210.,\n",
       "       240., 270., 300., 330., 360.,   0.,  30.,  60.,  90., 120., 150.,\n",
       "       180., 210., 240., 270., 300., 330., 360., 180.])"
      ]
     },
     "execution_count": 39,
     "metadata": {},
     "output_type": "execute_result"
    }
   ],
   "source": [
    "data[:,0]"
   ]
  },
  {
   "cell_type": "code",
   "execution_count": 53,
   "metadata": {},
   "outputs": [
    {
     "data": {
      "image/png": "[encoded data removed]",
      "text/plain": [
       "<Figure size 720x576 with 1 Axes>"
      ]
     },
     "metadata": {
      "needs_background": "light"
     },
     "output_type": "display_data"
    }
   ],
   "source": [
    "fig = plt.figure(figsize=(10,8))\n",
    "ax = fig.gca(projection='3d')\n",
    "\n",
    "\n",
    "u = data[:,0]/180*np.pi\n",
    "v = data[:,1]/180*np.pi\n",
    "\n",
    "x = data[:,2] * np.outer(np.cos(u), np.sin(v))\n",
    "y = data[:,2] * np.outer(np.sin(u), np.sin(v))\n",
    "z = data[:,2] * np.outer(np.ones(np.size(u)), np.cos(v))\n",
    "\n",
    "\n",
    "\n",
    "ax.plot_surface(x, y, z)#, rstride=1, cstride=1, color='w', shade=0)\n",
    "# surf = ax.plot_trisurf(x, y, z, cmap=\"viridis\")\n",
    "\n",
    "\n",
    "# surf.axis((0, 360, 0, 180, 0, 1))\n",
    "# fig.colorbar(surf, shrink=0.7, aspect=5)\n",
    "ax.view_init(0,30)\n",
    "\n",
    "\n",
    "plt.tight_layout()\n",
    "plt.show()"
   ]
  },
  {
   "cell_type": "code",
   "execution_count": null,
   "metadata": {},
   "outputs": [],
   "source": []
  }
 ],
 "metadata": {
  "kernelspec": {
   "display_name": "Python 3",
   "language": "python",
   "name": "python3"
  },
  "language_info": {
   "codemirror_mode": {
    "name": "ipython",
    "version": 3
   },
   "file_extension": ".py",
   "mimetype": "text/x-python",
   "name": "python",
   "nbconvert_exporter": "python",
   "pygments_lexer": "ipython3",
   "version": "3.6.7"
  }
 },
 "nbformat": 4,
 "nbformat_minor": 4
}
